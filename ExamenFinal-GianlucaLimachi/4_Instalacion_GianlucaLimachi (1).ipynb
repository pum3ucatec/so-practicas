{
  "nbformat": 4,
  "nbformat_minor": 0,
  "metadata": {
    "colab": {
      "provenance": []
    },
    "kernelspec": {
      "name": "python3",
      "display_name": "Python 3"
    },
    "language_info": {
      "name": "python"
    }
  },
  "cells": [
    {
      "cell_type": "code",
      "execution_count": null,
      "metadata": {
        "id": "-PO0fiI0sMcT"
      },
      "outputs": [],
      "source": []
    },
    {
      "cell_type": "markdown",
      "source": [
        "# Pasos para la instalación de macOS\n",
        "\n",
        "1. **Preparativos previos**:\n",
        "  -Copia de seguridad de datos importantes, ya que la instalación del sistema operativo puede borrar los archivos.\n",
        "   - Conecta tu Mac a cargador.\n",
        "   - Se debe conectar el dispositvo a una fuente de wifi estable ya que por este problema se demoro demaciado en la instalacion.\n",
        "\n",
        "2. **Descargar macOS**:\n",
        "   - Abrir la **App Store** en tu Mac.\n",
        "   - Buscar la versión de **macOS**.\n",
        "   - Haz clic en **Obtener** y espera a que el sistema descargue el instalador.\n",
        "\n",
        "3. **Iniciar el proceso de instalación**:\n",
        "   - Una vez descargado el instalador, se abrirá automáticamente.\n",
        "\n",
        "4. **Preparación del disco**:\n",
        "   - Se debe abrir la la **Utilidad de Discos**.\n",
        "   - Seleccionamos el disco donde instalaremos instalar macOS.\n",
        "   - Clic en **Borrar** para formatear el disco y asegurarte de que no haya datos previos que puedan interferir con la instalación.\n",
        "\n",
        "5. **Instalar macOS**:\n",
        "   - En la pantalla de instalación, selecciona el disco o partición donde deseas instalar macOS.\n",
        "   - Haz clic en **Instalar** y espera a que el proceso de instalación comience.\n",
        "   - El Mac puede reiniciarse varias veces durante la instalación.\n",
        "\n",
        "6. **Configuración inicial**:\n",
        "   - Una vez completada la instalación, el Mac se reiniciará y se iniciará en macOS.\n",
        "   - Sigue las instrucciones en pantalla para configurar el sistema operativo, como elegir tu idioma, país, y configurar una cuenta de usuario.\n",
        "\n",
        "7. **Finalización**:\n",
        "   - Después de la configuración, llegarás al escritorio de macOS.\n"
      ],
      "metadata": {
        "id": "70q37SgLsOOm"
      }
    }
  ]
}
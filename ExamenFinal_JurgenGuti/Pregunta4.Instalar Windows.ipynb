{
  "nbformat": 4,
  "nbformat_minor": 0,
  "metadata": {
    "colab": {
      "provenance": []
    },
    "kernelspec": {
      "name": "python3",
      "display_name": "Python 3"
    },
    "language_info": {
      "name": "python"
    }
  },
  "cells": [
    {
      "cell_type": "markdown",
      "source": [
        "# Instalar Windows 10 desde Cero en Cualquier PC\n",
        "  \n",
        "\n",
        "---\n",
        "\n",
        "## Requisitos para Instalar Windows 10\n",
        "- **Procesador:** 1 GHz  \n",
        "- **RAM:** 1 GB (32 bits) / 2 GB (64 bits)  \n",
        "- **Espacio en Disco:** 32 GB (64 bits)  \n",
        "- **Resolución de Pantalla:** 800×600  \n",
        "- **Tarjeta Gráfica:** Compatible con DirectX 9.0  \n",
        "\n",
        "---\n",
        "\n",
        "## Primer Paso: Crear USB de Instalación  \n",
        "\n",
        "\n",
        "### Descargar Windows 10  \n",
        "1. Descargar la imagen **ISO** desde el sitio oficial de Microsoft.  \n",
        "![Texto alternativo](https://www.softzone.es/app/uploads-softzone.es/2020/03/Crear-USB-para-instalar-Windows-10-Descargando-Windows-10-655x518.jpg)\n",
        "\n",
        "### Crear USB con Media Creation Tool  \n",
        "1. Descargar y ejecutar **Media Creation Tool**.  \n",
        "2. Seleccionar **\"Crear medio de instalación\"**.  \n",
        "3. Elegir la arquitectura, idioma y versión.  \n",
        "4. Seleccionar una **Unidad USB** (se borrará toda su información).  \n",
        "\n",
        "### Alternativa: Usar Rufus  \n",
        "- Rufus permite crear un USB de instalación desde una imagen **ISO**.  \n",
        "\n",
        "---\n",
        "\n",
        "## Segundo Paso: Instalar Windows 10 desde Cero  \n",
        "1. Arrancar desde el USB (configurar BIOS/UEFI si es necesario).  \n",
        "2. Configurar idioma, hora y teclado.  \n",
        "3. Elegir **\"Instalar ahora\"**.  \n",
        "4. Insertar la licencia o seleccionar **\"No tengo clave\"**.  \n",
        "5. Elegir la edición y el tipo de instalación:  \n",
        "   - **Actualización**: Conserva datos.  \n",
        "   - **Personalizada**: Instalación limpia.  \n",
        "6. Seleccionar la partición donde se instalará Windows.  \n",
        "\n",
        "![Texto alternativo](https://www.softzone.es/app/uploads-softzone.es/2020/03/Preparando-instalaci%C3%B3n-de-Windows.jpg)\n",
        "\n",
        "---\n",
        "\n",
        "## Configuración Inicial  \n",
        "1. **Región y Teclado:** Seleccionar configuración regional.  \n",
        "2. **Red:** Conexión automática (Ethernet) o manual (Wi-Fi).  \n",
        "3. **Cuenta:** Iniciar sesión con una **Cuenta Microsoft** o crear una cuenta local.  \n",
        "4. **PIN:** Configurar un PIN para mayor seguridad.  \n",
        "5. **Servicios:** Configurar **OneDrive**, Cortana y opciones de Office.  \n",
        "6. **Privacidad:** Ajustar opciones como reconocimiento de voz, ubicación y diagnósticos.  \n",
        "\n",
        "![Texto alternativo](https://www.softzone.es/app/uploads-softzone.es/2020/03/Instalar-Windows-10-Asistente-Cortana-1-655x491.jpg)\n",
        "---\n",
        "\n",
        "## Primeros Pasos en Windows 10  \n",
        "1. **Personalizar Escritorio:** Activar iconos como Equipo y Documentos.  \n",
        "2. **Actualizar Windows:** Ejecutar Windows Update para instalar los últimos parches.  \n",
        "3. **Instalar Drivers:** Actualizar controladores esenciales para el hardware.  \n",
        "4. **Programas Básicos:** Instalar aplicaciones necesarias para uso cotidiano.  \n",
        "![Texto alternativo](https://www.softzone.es/app/uploads-softzone.es/2020/03/Activar-iconos-escritorio-Windows-10.jpg)\n",
        "---\n",
        "\n",
        "¡Listo! Ahora tienes Windows 10 configurado y listo para usar.  \n"
      ],
      "metadata": {
        "id": "Q8GPSm5Msi9A"
      }
    }
  ]
}
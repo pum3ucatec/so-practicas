{
  "nbformat": 4,
  "nbformat_minor": 0,
  "metadata": {
    "colab": {
      "provenance": []
    },
    "kernelspec": {
      "name": "python3",
      "display_name": "Python 3"
    },
    "language_info": {
      "name": "python"
    }
  },
  "cells": [
    {
      "cell_type": "code",
      "execution_count": null,
      "metadata": {
        "id": "dLvS67GB1NqX"
      },
      "outputs": [],
      "source": []
    },
    {
      "cell_type": "markdown",
      "source": [
        "**Comandos de Linux utilizados en clase.**\n",
        "**ls**\n",
        "ls\n",
        "documento.txt  fotos/  archivo.log\n",
        "\n",
        "ls -l: Muestra información detallada (permisos, propietario, tamaño).\n",
        "\n",
        "**cd**\n",
        "Este comando te llevará al directorio /home/usuario/documentos.\n",
        "cd /home/usuario/documentos\n",
        "\n",
        "\n",
        "**pwd**\n",
        "El comando pwd muestra el directorio en el que te encuentras en ese momento.\n",
        "pwd /home/usuario/documentos\n",
        "\n",
        "**mkdir**\n",
        "El comando mkdir se utiliza para crear uno o más directorios.\n",
        "mkdir nuevo_directorio\n",
        "\n",
        "**cp**\n",
        "El comando cp se usa para copiar archivos o directorios de una ubicación a otra.\n",
        "cp archivo.txt /ruta/destino/\n",
        "\n",
        "**chmod**\n",
        "El comando chmod se usa para cambiar los permisos de los archivos y directorios.\n",
        "chmod u+x archivo.sh\n",
        "\n",
        "**sudo**\n",
        "El comando sudo se usa para ejecutar comandos con privilegios de superusuario (root), lo cual es necesario para realizar tareas administrativas.\n",
        "sudo apt update\n",
        "\n",
        "**git fech**\n",
        "El comando git fetch se usa para obtener cambios desde el repositorio remoto sin fusionarlos con la rama local.\n",
        "git fetch origin\n",
        "\n",
        "**git pull**\n",
        "El comando git pull obtiene y fusiona los cambios del repositorio remoto en la rama activa local.\n",
        "git brunch\n",
        "git pull origin main"
      ],
      "metadata": {
        "id": "yBpogt8G1Pnd"
      }
    }
  ]
}
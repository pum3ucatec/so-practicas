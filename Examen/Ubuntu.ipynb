{
  "nbformat": 4,
  "nbformat_minor": 0,
  "metadata": {
    "colab": {
      "provenance": []
    },
    "kernelspec": {
      "name": "python3",
      "display_name": "Python 3"
    },
    "language_info": {
      "name": "python"
    }
  },
  "cells": [
    {
      "cell_type": "code",
      "execution_count": null,
      "metadata": {
        "id": "yjkecn1kvOR7"
      },
      "outputs": [],
      "source": []
    },
    {
      "cell_type": "markdown",
      "source": [
        "Guía de Instalación de Linux en Windows(Ubuntu)(Hecho en Clases)\n",
        "\n",
        "Requisitos Previos\n",
        "\n",
        "- Hacer una particion en windows de unos 30 gigas(para ubuntu)\n",
        "\n",
        "Pasos para la instalación\n",
        "\n",
        "Descargar la imagen ISO\n",
        "- Ve a la página oficial de Ubuntu y descarga la última versión de Ubuntu (Destok).\n",
        "\n",
        "Crear un medio de instalación\n",
        "- Si estás utilizando un **USB**, usa herramientas como [Rufus]\n",
        "- Crear un USB booteable con la imagen ISO descargada.\n",
        "\n",
        "Arrancar desde el medio de instalación\n",
        "- Inserta el USB\n",
        "- Reinicia el equipo y entra en la BIOS presionando`F2`.\n",
        "- Selecciona el USB como prioridad para el arranque\n",
        "\n",
        "Iniciar la instalación\n",
        "- Cuando el sistema operativo cargue, selecciona el idioma y la región.\n",
        "- Haz clic en \"Instalar Ubuntu\" o la opción correspondiente.\n",
        "\n",
        "Instalación doble arranque\n",
        "- El instalador ofrecerá la opción de instalar junto con Windows.\n",
        "\n",
        "Configuración del sistema\n",
        "- Ingresa tu nombre, nombre de usuario y contraseña.\n",
        "- Selecciona tu zona horaria.\n",
        "\n",
        "Instalar el sistema “Ubuntu”\n",
        "- El sistema comenzará a instalarse. Este proceso puede durar entre 15 y 45 minutos.\n",
        "\n",
        "Reiniciar el equipo\n",
        "- Cuando la instalación haya finalizado, el sistema te pedirá reiniciar.\n",
        "- Retira el USB\n",
        "\n",
        "Iniciar sesión\n",
        "- Una vez que el sistema haya reiniciado, podrás ingresar con el nombre de usuario y contraseña que configuraste durante la instalación.\n",
        "\n",
        "Ahora ya puedes usar Windows Y Linux en una sola maquina\n",
        "\n",
        "Referencias\n",
        "https://youtu.be/wIj7sHK0SkQ?si=C5YuzWhnhucf4A6c"
      ],
      "metadata": {
        "id": "eM_vL_jOvZz6"
      }
    }
  ]
}

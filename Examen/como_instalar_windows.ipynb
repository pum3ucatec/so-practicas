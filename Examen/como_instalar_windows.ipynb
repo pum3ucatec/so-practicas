{
  "nbformat": 4,
  "nbformat_minor": 0,
  "metadata": {
    "colab": {
      "provenance": []
    },
    "kernelspec": {
      "name": "python3",
      "display_name": "Python 3"
    },
    "language_info": {
      "name": "python"
    }
  },
  "cells": [
    {
      "cell_type": "markdown",
      "source": [
        "#🖥️ Guía de Instalación de Windows"
      ],
      "metadata": {
        "id": "Bg6Hn8_8vrhq"
      }
    },
    {
      "cell_type": "markdown",
      "source": [
        "\n",
        "#Requisitos previos\n",
        "• Unidad USB de 8G\n",
        "• Conexión a Internet\n",
        "• Una computadora\n",
        "# Pasos de Instalación\n",
        "\n",
        "1.Crear un USB de instalacion\n",
        "primero dirigirse a una pagina de instalacion para el windows 10 y descargar la imagen ISO de Windows 10 https://www.microsoft.com/es-mx/software-download/windows10iso\n",
        "Despues descargarse un archivo rufus para montar la imagen ISO descargada de Windows y una vez instalada ejecutamos desde nuestro ordendor y veremos la imagen\n",
        "#Configuración Inicial del Instalador\n",
        "1. Selecciona tu:\n",
        "◦ Idioma\n",
        "◦ Formato de hora y moneda\n",
        "5. Introducir la Clave de Producto\n",
        "• Introduce tu clave de producto si la tienes.\n",
        "• Si no la tienes, selecciona \"No tengo una clave de producto\" para continuar.\n",
        "\n",
        "# Elegir Edición de Windows\n",
        "1. Elige la edición de Windows que deseas instalar (por ejemplo, Windows 10 Home o Windows 10 Pro).\n",
        "2. Haz clic en \"Siguiente\".\n",
        "\n",
        "#Aceptar los Términos de Licencia\n",
        "1. Marca la casilla \"Acepto los términos de licencia\".\n",
        "2. Haz clic en \"Siguiente\".\n",
        "\n",
        "# Seleccionar Tipo de Instalación\n",
        "• Elige \"Personalizada: instalar solo Windows (avanzado)\" para una instalación limpia.\n",
        "\n",
        "# Gestionar Particiones\n",
        "1. Elimina las particiones existentes si deseas una instalación desde cero. ⚠️ Esto borrará todos los datos existentes.\n",
        "2. Crea una nueva partición seleccionando el espacio no asignado.\n",
        "3. Selecciona la partición creada y haz clic en \"Siguiente\".\n",
        "\n",
        "#Instalación de Windows\n",
        "1. El instalador comenzará a copiar archivos y reiniciará tu computadora varias veces.\n",
        "2. No retires la unidad USB hasta que el proceso finalice.\n",
        "\n",
        "# Configuración Inicial de Windows\n",
        "1. Selecciona tu región y distribución de teclado.\n",
        "2. Conéctate a una red Wi-Fi si se te solicita.\n",
        "3. Configura tu cuenta de Microsoft o una cuenta local.\n",
        "4. Establece una contraseña y selecciona opciones de seguridad y privacidad.\n",
        "\n"
      ],
      "metadata": {
        "id": "Z8hLOf8CvuTN"
      }
    }
  ]
}
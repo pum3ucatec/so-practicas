{
  "nbformat": 4,
  "nbformat_minor": 0,
  "metadata": {
    "colab": {
      "provenance": []
    },
    "kernelspec": {
      "name": "python3",
      "display_name": "Python 3"
    },
    "language_info": {
      "name": "python"
    }
  },
  "cells": [
    {
      "cell_type": "markdown",
      "source": [
        "# Instalación de macOS\n",
        "\n",
        "# Requisitos previos:\n",
        "* Una Mac compatible.\n",
        "* Una conexión a Internet estable.\n",
        "* Una copia del instalador de macOS (puede obtenerse desde la App Store o una unidad de arranque).\n",
        "\n",
        "# Pasos:\n",
        "\n",
        "1. **Crear una unidad de arranque (opcional):**\n",
        "   * Si deseas realizar una instalación limpia, crea una unidad de arranque utilizando la Utilidad de Discos.\n",
        "\n",
        "2. **Reiniciar la Mac:**\n",
        "   * Mantén presionadas las teclas de inicio correspondientes (generalmente Comando+R) mientras la Mac se enciende para iniciar desde la recuperación de macOS.\n",
        "\n",
        "3. **Seleccionar la Utilidad de Discos:**\n",
        "   * En la ventana de Utilidad de Discos, selecciona el disco donde deseas instalar macOS y formatéalo.\n",
        "\n",
        "4. **Iniciar la instalación:**\n",
        "   * Sal de la Utilidad de Discos y selecciona \"Reinstalar macOS\".\n",
        "   * Sigue las instrucciones en pantalla para completar la instalación.\n",
        "\n",
        "# Consideraciones adicionales:\n",
        "* **Copia de seguridad:** Antes de realizar cualquier instalación, asegúrate de tener una copia de seguridad de tus datos importantes.\n",
        "* **Compatibilidad de aplicaciones:** Verifica que tus aplicaciones sean compatibles con la nueva versión de macOS.\n",
        "* **Personalización:** Una vez que macOS esté instalado, podrás personalizar tu sistema según tus preferencias.\n",
        "\n",
        "**Enlace a la guía oficial de Apple:**\n",
        "Para obtener instrucciones más detalladas y específicas para tu modelo de Mac, consulta la guía oficial de Apple: https://support.apple.com/es-es/102662\n",
        "\n",
        "2. Documentación de Comandos de Linux en Markdown\n",
        "Nota: Para crear esta documentación, necesitará conocer los comandos específicos que se utilizarán en su clase. Por favor, proporciona una lista de los comandos y una breve descripción de su función.\n",
        "Ejemplo de estructura:\n",
        "Reducción\n",
        "## Comandos de Linux Básicos\n",
        "\n",
        "### Navegación en el sistema de archivos\n",
        "* **`cd`:** Cambia el directorio de trabajo actual.\n",
        "  * Ejemplo: `cd Descargas`\n",
        "* **`ls`:** Lista los archivos y directorios en el directorio actual.\n",
        "  * Ejemplo: `ls -l` (muestra información detallada)\n",
        "\n"
      ],
      "metadata": {
        "id": "j8QFyzta0e39"
      }
    }
  ]
}